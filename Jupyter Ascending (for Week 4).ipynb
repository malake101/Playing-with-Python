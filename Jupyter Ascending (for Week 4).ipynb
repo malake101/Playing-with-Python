{
    "cells": [
        {
            "cell_type": "markdown",
            "metadata": {
                "collapsed": true
            },
            "source": "#  My Jupyter Notebook on IBM Watson Studio (aka Jupyter Ascending) #"
        },
        {
            "cell_type": "markdown",
            "metadata": {},
            "source": "**Michael Allen Lake**   \nStrategic Communications Advisor\n"
        },
        {
            "cell_type": "markdown",
            "metadata": {},
            "source": "_Data Science both fascinates and scares me in equal measure. But learning to code in Python is something I feel I need to do. Why?  Well, two reasons. It is a relevant skillset to have in today's world, and I can see the obvious business operational advantages that come from being able to leverage data as a strategic asset._"
        },
        {
            "cell_type": "markdown",
            "metadata": {},
            "source": "### The code in question is supposed to demonstrate how different whole numbers can be combined"
        },
        {
            "cell_type": "code",
            "execution_count": null,
            "metadata": {},
            "outputs": [],
            "source": "1 + 1 + 4 + 7"
        },
        {
            "cell_type": "markdown",
            "metadata": {},
            "source": "---------  \n4. Some people prefer numbered lists to tables  \n5. But others think that tables are sexier  \n6. Is there truly anything that is sexy as a simple linear progression?  \n7. The answer is no  \n\n| The | Neat | And |  \n| ---- | :---: | :--- |   \n| **Cool** | Thing | About |  \n| Tables | *is* | How |  \n| They | Align | Yo |  \n\n\n\n"
        },
        {
            "cell_type": "code",
            "execution_count": null,
            "metadata": {},
            "outputs": [],
            "source": ""
        }
    ],
    "metadata": {
        "kernelspec": {
            "display_name": "Python 3.6",
            "language": "python",
            "name": "python3"
        },
        "language_info": {
            "codemirror_mode": {
                "name": "ipython",
                "version": 3
            },
            "file_extension": ".py",
            "mimetype": "text/x-python",
            "name": "python",
            "nbconvert_exporter": "python",
            "pygments_lexer": "ipython3",
            "version": "3.6.9"
        }
    },
    "nbformat": 4,
    "nbformat_minor": 1
}